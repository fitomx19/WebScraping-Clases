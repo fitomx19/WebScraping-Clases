{
 "cells": [
  {
   "attachments": {},
   "cell_type": "markdown",
   "metadata": {},
   "source": [
    "# Webscrapping a Paginas de Supermercados en Linea Mexicanos"
   ]
  },
  {
   "cell_type": "code",
   "execution_count": 1,
   "metadata": {},
   "outputs": [],
   "source": [
    "#pip install -r  requirements.txt"
   ]
  },
  {
   "attachments": {},
   "cell_type": "markdown",
   "metadata": {},
   "source": [
    "Utilizaremos varias herramientas\n",
    "- bs4 (Beautiful Soup)\n",
    "- request \n",
    "- selenium \n",
    "- msedge.selenium_tools\n",
    "- pymongo\n",
    "- json\n"
   ]
  },
  {
   "attachments": {},
   "cell_type": "markdown",
   "metadata": {},
   "source": [
    "El flujo es el siguiente: \n",
    "1. Ingresamos a la página web con el url que vamos a construir -> en este caso esta predeterminado pero ustedes pueden crear una funcion para automatizarlo quiza leyendo los valores de una BD o un JSON .... \n",
    "2.  Ahora relizaremos el scrapping -> identificaremos 3 valores importantes que vamos a necesitar <b>Nombre</b> , <b>Precio</b> , <b>Url</b> donde dependera como fue el diseño de las mismas para poder extrar la informacion\n",
    "3. Procesaremos la información para posteriormente agregarla a un diccionario , y finalmente serializarla con un JSON a alguna base de datos, en nuestro caso utilizaremos <b>MONGO DB</b>\n",
    "4. El scrapping esta listo, lo que falta ahora es ¿Qué hacer con esta informacion?"
   ]
  },
  {
   "attachments": {},
   "cell_type": "markdown",
   "metadata": {},
   "source": [
    "### Webscrapping Aurrera"
   ]
  },
  {
   "attachments": {},
   "cell_type": "markdown",
   "metadata": {},
   "source": [
    "Aqui tenemos ademas una cheatsheet de como realizar las principales utilidades de <b>Selenium</b>"
   ]
  },
  {
   "attachments": {},
   "cell_type": "markdown",
   "metadata": {},
   "source": [
    " ['url cheatsheets'](https://www.automatetheplanet.com/selenium-webdriver-java-cheat-sheet/)"
   ]
  },
  {
   "cell_type": "code",
   "execution_count": 2,
   "metadata": {},
   "outputs": [],
   "source": [
    "# Url de Bodega Aurrera\n",
    "link = \"https://www.bodegaaurrera.com.mx/productos?Ntt=comida%20gato\" "
   ]
  },
  {
   "cell_type": "code",
   "execution_count": 3,
   "metadata": {},
   "outputs": [
    {
     "name": "stdout",
     "output_type": "stream",
     "text": [
      "<html>\n",
      " <head>\n",
      "  <title>\n",
      "   Access Denied\n",
      "  </title>\n",
      " </head>\n",
      " <body>\n",
      "  <h1>\n",
      "   Access Denied\n",
      "  </h1>\n",
      "  You don't have permission to access \"http://www.bodegaaurrera.com.mx/productos?\" on this server.\n",
      "  <p>\n",
      "   Reference #18.ef72217.1685565269.25a8805\n",
      "  </p>\n",
      " </body>\n",
      "</html>\n",
      "\n"
     ]
    }
   ],
   "source": [
    "# obtener el html de la pagina web link\n",
    "import requests\n",
    "from bs4 import BeautifulSoup\n",
    "\n",
    "page = requests.get(link)\n",
    "soup = BeautifulSoup(page.content, 'html.parser')\n",
    "\n",
    "# imprimir el html de la pagina web link\n",
    "print(soup.prettify())\n"
   ]
  },
  {
   "attachments": {},
   "cell_type": "markdown",
   "metadata": {},
   "source": [
    "MMM nos marca un error de permisos --> "
   ]
  },
  {
   "attachments": {},
   "cell_type": "markdown",
   "metadata": {},
   "source": [
    "Intentaremos realizar la busqueda con un request, pero como es una página con una restriccion de navegador y ademas <b>dinamica</b> , entonces buscaremos con SELENIUM"
   ]
  },
  {
   "attachments": {},
   "cell_type": "markdown",
   "metadata": {},
   "source": [
    "Para esta sección y las demás que veamos esta importacion de librerias, las dejare marcadas por si solo necesitan ejecutar ese bloque de codigo"
   ]
  },
  {
   "cell_type": "code",
   "execution_count": 4,
   "metadata": {},
   "outputs": [
    {
     "name": "stderr",
     "output_type": "stream",
     "text": [
      "C:\\Users\\DELL\\AppData\\Local\\Temp\\ipykernel_12988\\2784977948.py:18: DeprecationWarning: Selenium Tools for Microsoft Edge is deprecated. Please upgrade to Selenium 4 which has built-in support for Microsoft Edge (Chromium): https://docs.microsoft.com/en-us/microsoft-edge/webdriver-chromium/#upgrading-from-selenium-3\n",
      "  driver = Edge(options=options)\n"
     ]
    }
   ],
   "source": [
    "from selenium import webdriver\n",
    "from selenium.webdriver.common.keys import Keys\n",
    "from selenium.webdriver.common.by import By\n",
    "from selenium.webdriver.support.ui import WebDriverWait\n",
    "from selenium.webdriver.support import expected_conditions as EC\n",
    "from msedge.selenium_tools import EdgeOptions\n",
    "from msedge.selenium_tools import Edge\n",
    "import time\n",
    "PATH = \"./msedgedriver.exe\"\n",
    "\n",
    "options = EdgeOptions()\n",
    "options.use_chromium = True\n",
    "options.headless = True\n",
    "options.add_experimental_option(\n",
    "    \"excludeSwitches\", ['enable-automation'])\n",
    "options.add_experimental_option('useAutomationExtension', False)\n",
    "options.add_argument('--disable-blink-features=AutomationControlled')\n",
    "driver = Edge(options=options)\n"
   ]
  },
  {
   "cell_type": "code",
   "execution_count": 5,
   "metadata": {},
   "outputs": [],
   "source": [
    "driver = webdriver.Edge(PATH)\n",
    "driver.get(link)\n",
    "html = \"\"\n",
    "# esperar 6 segundos -> esto es para que cargue la pagina web\n",
    "time.sleep(6)\n",
    "# obtener el html de la pagina web link\n",
    "html = driver.page_source\n",
    "driver.quit()"
   ]
  },
  {
   "attachments": {},
   "cell_type": "markdown",
   "metadata": {},
   "source": [
    "#### Nota: Debido a que tienen mejores sistemas de seguridad anti scrapers , no pudimos realizar nuestro trabajo con Aurrera, bien ahi grupo Walmart"
   ]
  },
  {
   "cell_type": "code",
   "execution_count": 6,
   "metadata": {},
   "outputs": [],
   "source": [
    "# contar el numero de divs que hay en el siguiente xpath //*[@id=\"scrollContainer\"]/section/div[1]/div[3]/div[2]/div[1]/div\n",
    "# divs = driver.find_element(by=By.XPATH, value='//*[@id=\"scrollContainer\"]/section/div[1]/div[3]/div[2]/div[1]/div')\n",
    "\n",
    "# datos = divs.find_elements(By.TAG_NAME, \"div\")\n",
    "\n",
    "# limpieza = []\n",
    "# productos = []\n",
    "# for x in datos:\n",
    "#    limpieza.append(x.get_attribute(\"innerHTML\"))\n"
   ]
  },
  {
   "cell_type": "code",
   "execution_count": 7,
   "metadata": {},
   "outputs": [],
   "source": [
    "# crear diccionario con los datos de los productos\n",
    "# import re\n",
    "# nombre_temporal = \"\"\n",
    "# for x in limpieza:\n",
    "#    soup = BeautifulSoup(x, 'html.parser')\n",
    "\n",
    "\n",
    "#    if(soup.find('a') != None):\n",
    "\n",
    "#        precio = (soup.find(attrs={\"data-automation-id\" : \"sale-price\"}))\n",
    "#        if(precio != None):\n",
    "#            precio = precio.text\n",
    "#            nombre = (soup.find(attrs={\"data-automation-id\" : \"product-name\"}).text)\n",
    "\n",
    "#            producto = {\n",
    "#                \"nombre\": nombre,\n",
    "#                \"precio\": precio,\n",
    "#                \"url\": \"https://www.bodegaaurrera.com.mx\"+soup.find('a').get('href')\n",
    "#            }\n",
    "\n",
    "#            if nombre != nombre_temporal:\n",
    "#                productos.append(producto)\n",
    "#                nombre_temporal = nombre\n",
    "# driver.quit()\n"
   ]
  },
  {
   "attachments": {},
   "cell_type": "markdown",
   "metadata": {},
   "source": [
    "## WebScrapping para Chedraui"
   ]
  },
  {
   "cell_type": "code",
   "execution_count": 8,
   "metadata": {},
   "outputs": [],
   "source": [
    "# con el webdriver de edge, abrir la pagina web link\n",
    "from selenium import webdriver\n",
    "from selenium.webdriver.common.keys import Keys\n",
    "from selenium.webdriver.common.by import By\n",
    "from selenium.webdriver.support.ui import WebDriverWait\n",
    "from selenium.webdriver.support import expected_conditions as EC\n",
    "from msedge.selenium_tools import EdgeOptions\n",
    "from msedge.selenium_tools import Edge\n",
    "import time\n",
    "import datetime\n",
    "PATH = \"./msedgedriver.exe\"\n",
    "\n",
    "\n",
    "\n",
    "# Crearemos un diccionario con los productos que queremos buscar\n",
    "\n",
    "comida_gatoC = {\n",
    "    \"nombre\": \"Comida para gato\",\n",
    "    \"url\": \"https://www.chedraui.com.mx/gatos?_q=gatos&map=ft\"\n",
    "}\n",
    "\n",
    "mayonesaC = {\n",
    "    \"nombre\": \"Mayonesa\",\n",
    "    \"url\": \"https://www.chedraui.com.mx/mayonesa?_q=mayonesa&map=ft\"\n",
    "}\n",
    "\n",
    "fabulosoC = {\n",
    "    \"nombre\": \"Fabuloso\",\n",
    "    \"url\": \"https://www.chedraui.com.mx/fabuloso?_q=fabuloso&map=ft\"\n",
    "}\n",
    "\n",
    "\n",
    "diccionarioC = {\n",
    "    \"comida_gato\": comida_gatoC,\n",
    "    \"mayonesa\": mayonesaC,\n",
    "    \"fabuloso\": fabulosoC\n",
    "}\n",
    "\n",
    "driver = webdriver.Edge(PATH)\n",
    "#importante definir el tamaño de la ventana a maximizar por el tema de el CSS responsive\n",
    "driver.maximize_window()\n",
    "pChedraui = []\n"
   ]
  },
  {
   "cell_type": "code",
   "execution_count": 10,
   "metadata": {},
   "outputs": [
    {
     "name": "stdout",
     "output_type": "stream",
     "text": [
      "uno\n",
      "<selenium.webdriver.remote.webelement.WebElement (session=\"34a37079ca0a4be24cfb7af1aa622705\", element=\"cb7e70ad-a21b-4f7f-bfa0-718079b3c7ff\")>\n",
      "dos\n",
      "[<selenium.webdriver.remote.webelement.WebElement (session=\"34a37079ca0a4be24cfb7af1aa622705\", element=\"39dcc185-28d8-4f3a-9734-a038c922e2e8\")>, <selenium.webdriver.remote.webelement.WebElement (session=\"34a37079ca0a4be24cfb7af1aa622705\", element=\"5282dd0c-d267-480b-9b1b-3c6ba9593fea\")>, <selenium.webdriver.remote.webelement.WebElement (session=\"34a37079ca0a4be24cfb7af1aa622705\", element=\"0a0ff955-e3e3-4a9c-81ec-d4144a9ab6c8\")>, <selenium.webdriver.remote.webelement.WebElement (session=\"34a37079ca0a4be24cfb7af1aa622705\", element=\"a05e0c78-fcc6-4192-a1e6-52a3fb4d0938\")>, <selenium.webdriver.remote.webelement.WebElement (session=\"34a37079ca0a4be24cfb7af1aa622705\", element=\"3e6927c1-ffbc-41a3-a295-55576a459d0b\")>, <selenium.webdriver.remote.webelement.WebElement (session=\"34a37079ca0a4be24cfb7af1aa622705\", element=\"0ab9966f-2ca9-4d97-95d6-8846704a53bf\")>, <selenium.webdriver.remote.webelement.WebElement (session=\"34a37079ca0a4be24cfb7af1aa622705\", element=\"2c821a36-68ac-446c-86ba-d011c29c5d4c\")>, <selenium.webdriver.remote.webelement.WebElement (session=\"34a37079ca0a4be24cfb7af1aa622705\", element=\"686422a1-0aa2-497b-ba01-77d3acf18a48\")>, <selenium.webdriver.remote.webelement.WebElement (session=\"34a37079ca0a4be24cfb7af1aa622705\", element=\"13453a64-6eb0-47b2-a6f4-dd79f6499965\")>, <selenium.webdriver.remote.webelement.WebElement (session=\"34a37079ca0a4be24cfb7af1aa622705\", element=\"2f275766-58a9-4f8a-90bd-8b00702eb940\")>, <selenium.webdriver.remote.webelement.WebElement (session=\"34a37079ca0a4be24cfb7af1aa622705\", element=\"8548e7e3-6fff-4cad-9d62-71c9a1fdd19c\")>, <selenium.webdriver.remote.webelement.WebElement (session=\"34a37079ca0a4be24cfb7af1aa622705\", element=\"3a76648f-065a-4365-ad28-5ecb121e50a6\")>, <selenium.webdriver.remote.webelement.WebElement (session=\"34a37079ca0a4be24cfb7af1aa622705\", element=\"ba95d181-7ad7-4743-a2e9-531556428c52\")>, <selenium.webdriver.remote.webelement.WebElement (session=\"34a37079ca0a4be24cfb7af1aa622705\", element=\"ad35350a-3075-49ef-94bc-daaf2d0e2b4f\")>, <selenium.webdriver.remote.webelement.WebElement (session=\"34a37079ca0a4be24cfb7af1aa622705\", element=\"9ed8f7bb-440d-4cdd-8ffb-f6551bfa1ec3\")>, <selenium.webdriver.remote.webelement.WebElement (session=\"34a37079ca0a4be24cfb7af1aa622705\", element=\"36d76791-7ebe-4d64-b958-774c08230894\")>, <selenium.webdriver.remote.webelement.WebElement (session=\"34a37079ca0a4be24cfb7af1aa622705\", element=\"be33085c-0824-4baf-b1c6-94bafe772cf1\")>, <selenium.webdriver.remote.webelement.WebElement (session=\"34a37079ca0a4be24cfb7af1aa622705\", element=\"3999da55-fd6b-464b-8e75-4298b4ee6c7e\")>, <selenium.webdriver.remote.webelement.WebElement (session=\"34a37079ca0a4be24cfb7af1aa622705\", element=\"55460a32-32c3-4514-8297-3a1a7a4b361b\")>, <selenium.webdriver.remote.webelement.WebElement (session=\"34a37079ca0a4be24cfb7af1aa622705\", element=\"00dd21f3-beed-4033-9d6b-48f08e89aab5\")>, <selenium.webdriver.remote.webelement.WebElement (session=\"34a37079ca0a4be24cfb7af1aa622705\", element=\"9fb5283b-3c98-4550-b4df-073270c81d78\")>, <selenium.webdriver.remote.webelement.WebElement (session=\"34a37079ca0a4be24cfb7af1aa622705\", element=\"e83f2393-7d44-4e14-a8cb-7c0843c9b723\")>, <selenium.webdriver.remote.webelement.WebElement (session=\"34a37079ca0a4be24cfb7af1aa622705\", element=\"5fccb172-7f4f-44ab-8771-56507a544fbb\")>, <selenium.webdriver.remote.webelement.WebElement (session=\"34a37079ca0a4be24cfb7af1aa622705\", element=\"6e01c87f-3f60-4b77-b210-99f71806ce3b\")>, <selenium.webdriver.remote.webelement.WebElement (session=\"34a37079ca0a4be24cfb7af1aa622705\", element=\"8a5e4747-a41e-4c46-84ec-2dcf7f088e54\")>, <selenium.webdriver.remote.webelement.WebElement (session=\"34a37079ca0a4be24cfb7af1aa622705\", element=\"bb7c8867-d1f9-46d9-a246-62ff4b16e6b9\")>, <selenium.webdriver.remote.webelement.WebElement (session=\"34a37079ca0a4be24cfb7af1aa622705\", element=\"29d454fc-d0d3-4661-95da-4f58bcbc165c\")>, <selenium.webdriver.remote.webelement.WebElement (session=\"34a37079ca0a4be24cfb7af1aa622705\", element=\"773118b3-2c81-4da6-8461-9f9037307c72\")>, <selenium.webdriver.remote.webelement.WebElement (session=\"34a37079ca0a4be24cfb7af1aa622705\", element=\"5421ef04-a8ec-4e77-879f-5585dc61d8b4\")>, <selenium.webdriver.remote.webelement.WebElement (session=\"34a37079ca0a4be24cfb7af1aa622705\", element=\"e5d564ca-dbc6-462f-a728-facece0e57e3\")>, <selenium.webdriver.remote.webelement.WebElement (session=\"34a37079ca0a4be24cfb7af1aa622705\", element=\"274a3edc-9df2-46f8-be41-b2d3176fc4cc\")>, <selenium.webdriver.remote.webelement.WebElement (session=\"34a37079ca0a4be24cfb7af1aa622705\", element=\"73bef4ec-65df-4b50-beea-b95d08d2cce9\")>, <selenium.webdriver.remote.webelement.WebElement (session=\"34a37079ca0a4be24cfb7af1aa622705\", element=\"4f3ceb03-347e-4417-96b7-099cb206d4fb\")>, <selenium.webdriver.remote.webelement.WebElement (session=\"34a37079ca0a4be24cfb7af1aa622705\", element=\"7d2c728d-e901-40c9-8884-c75db08ca307\")>, <selenium.webdriver.remote.webelement.WebElement (session=\"34a37079ca0a4be24cfb7af1aa622705\", element=\"ca07b734-dc7d-4f0a-b7e7-cad4e87bd006\")>, <selenium.webdriver.remote.webelement.WebElement (session=\"34a37079ca0a4be24cfb7af1aa622705\", element=\"7f4c75ef-e5b5-4b1b-aaf9-65a06185216e\")>, <selenium.webdriver.remote.webelement.WebElement (session=\"34a37079ca0a4be24cfb7af1aa622705\", element=\"902ab7e0-bf12-4d5b-9dc3-456cc333adac\")>, <selenium.webdriver.remote.webelement.WebElement (session=\"34a37079ca0a4be24cfb7af1aa622705\", element=\"f9093992-b989-423e-b184-6dc3c1de366c\")>, <selenium.webdriver.remote.webelement.WebElement (session=\"34a37079ca0a4be24cfb7af1aa622705\", element=\"705bba33-4eaf-4c1c-8fd1-66b808ee29ce\")>, <selenium.webdriver.remote.webelement.WebElement (session=\"34a37079ca0a4be24cfb7af1aa622705\", element=\"a237306d-94c9-4c0e-92cc-cf7c553d3fd5\")>, <selenium.webdriver.remote.webelement.WebElement (session=\"34a37079ca0a4be24cfb7af1aa622705\", element=\"5f3fb861-95df-483e-a316-27f3d62e0e8b\")>, <selenium.webdriver.remote.webelement.WebElement (session=\"34a37079ca0a4be24cfb7af1aa622705\", element=\"14c4152f-db61-4245-89ad-c68f755d58f0\")>, <selenium.webdriver.remote.webelement.WebElement (session=\"34a37079ca0a4be24cfb7af1aa622705\", element=\"9a39206c-970f-4ea2-8a7e-a351e61910e5\")>, <selenium.webdriver.remote.webelement.WebElement (session=\"34a37079ca0a4be24cfb7af1aa622705\", element=\"22b3e22d-2101-45eb-9105-7c9679160943\")>, <selenium.webdriver.remote.webelement.WebElement (session=\"34a37079ca0a4be24cfb7af1aa622705\", element=\"81f01ce3-8619-4720-a50d-a88385e62600\")>, <selenium.webdriver.remote.webelement.WebElement (session=\"34a37079ca0a4be24cfb7af1aa622705\", element=\"552db7e8-a036-4e20-abf7-897878f2a7be\")>, <selenium.webdriver.remote.webelement.WebElement (session=\"34a37079ca0a4be24cfb7af1aa622705\", element=\"045c2e8c-68ca-4306-9916-3d534fe9aec1\")>, <selenium.webdriver.remote.webelement.WebElement (session=\"34a37079ca0a4be24cfb7af1aa622705\", element=\"7f401959-4318-43d6-b435-fe7c36133fc1\")>, <selenium.webdriver.remote.webelement.WebElement (session=\"34a37079ca0a4be24cfb7af1aa622705\", element=\"41b73213-5e71-41bf-909d-214a8c88cbc0\")>, <selenium.webdriver.remote.webelement.WebElement (session=\"34a37079ca0a4be24cfb7af1aa622705\", element=\"2909c4c3-11a5-488d-ae7f-388b9f0933c8\")>, <selenium.webdriver.remote.webelement.WebElement (session=\"34a37079ca0a4be24cfb7af1aa622705\", element=\"1da580f2-d8fc-491f-8e99-2e666c996271\")>, <selenium.webdriver.remote.webelement.WebElement (session=\"34a37079ca0a4be24cfb7af1aa622705\", element=\"ec77f96c-e2c7-4097-97a7-4f708452ae43\")>, <selenium.webdriver.remote.webelement.WebElement (session=\"34a37079ca0a4be24cfb7af1aa622705\", element=\"5e1d5199-1450-4fbe-b4cd-38bbb9df23de\")>, <selenium.webdriver.remote.webelement.WebElement (session=\"34a37079ca0a4be24cfb7af1aa622705\", element=\"09ad43e6-767a-417b-9de2-24130991f29f\")>, <selenium.webdriver.remote.webelement.WebElement (session=\"34a37079ca0a4be24cfb7af1aa622705\", element=\"dc0fb539-e04a-43df-9973-303f28bace0f\")>, <selenium.webdriver.remote.webelement.WebElement (session=\"34a37079ca0a4be24cfb7af1aa622705\", element=\"a0d33273-dbc8-4678-9ee8-dd7b91f5f801\")>, <selenium.webdriver.remote.webelement.WebElement (session=\"34a37079ca0a4be24cfb7af1aa622705\", element=\"e2851b5c-5095-488e-8d34-439f2f08524e\")>, <selenium.webdriver.remote.webelement.WebElement (session=\"34a37079ca0a4be24cfb7af1aa622705\", element=\"4dcee9b7-c381-4c8a-80c8-9c67827920db\")>, <selenium.webdriver.remote.webelement.WebElement (session=\"34a37079ca0a4be24cfb7af1aa622705\", element=\"a3dc56e4-21c8-4ea7-9808-eb66cd4e05a8\")>, <selenium.webdriver.remote.webelement.WebElement (session=\"34a37079ca0a4be24cfb7af1aa622705\", element=\"c3d2bb64-3100-4a69-9329-add39da907ad\")>, <selenium.webdriver.remote.webelement.WebElement (session=\"34a37079ca0a4be24cfb7af1aa622705\", element=\"4177a734-8092-4414-9a35-ca868c377c70\")>, <selenium.webdriver.remote.webelement.WebElement (session=\"34a37079ca0a4be24cfb7af1aa622705\", element=\"eda61777-2124-4ca7-86c3-92124b39e6d2\")>, <selenium.webdriver.remote.webelement.WebElement (session=\"34a37079ca0a4be24cfb7af1aa622705\", element=\"c0f68c3e-8eb3-4c3a-acb3-1c0d4a6aa82a\")>, <selenium.webdriver.remote.webelement.WebElement (session=\"34a37079ca0a4be24cfb7af1aa622705\", element=\"2bdb9d08-127a-46ea-8759-88f7088d813a\")>, <selenium.webdriver.remote.webelement.WebElement (session=\"34a37079ca0a4be24cfb7af1aa622705\", element=\"3a2140c6-0d3b-440d-a162-f111acad7e25\")>, <selenium.webdriver.remote.webelement.WebElement (session=\"34a37079ca0a4be24cfb7af1aa622705\", element=\"885cad54-9ba0-44c4-92c6-114c3dceb3d8\")>, <selenium.webdriver.remote.webelement.WebElement (session=\"34a37079ca0a4be24cfb7af1aa622705\", element=\"26ccbea0-2013-44ea-8fda-c978d3cbb9be\")>, <selenium.webdriver.remote.webelement.WebElement (session=\"34a37079ca0a4be24cfb7af1aa622705\", element=\"b83b2aa3-68fa-4b34-b4d0-3fe31f1314f0\")>, <selenium.webdriver.remote.webelement.WebElement (session=\"34a37079ca0a4be24cfb7af1aa622705\", element=\"fac7251e-0d54-4f3f-8c8e-bff450901eb1\")>, <selenium.webdriver.remote.webelement.WebElement (session=\"34a37079ca0a4be24cfb7af1aa622705\", element=\"19541145-d5bb-47ab-8efa-9da50437f93f\")>, <selenium.webdriver.remote.webelement.WebElement (session=\"34a37079ca0a4be24cfb7af1aa622705\", element=\"b5b487da-de86-4512-ab63-028fd0048b93\")>, <selenium.webdriver.remote.webelement.WebElement (session=\"34a37079ca0a4be24cfb7af1aa622705\", element=\"737c8a74-7e3c-4e97-8c87-8d48e0159c71\")>, <selenium.webdriver.remote.webelement.WebElement (session=\"34a37079ca0a4be24cfb7af1aa622705\", element=\"a9d44b39-a330-4bbb-9ae9-b44626a0be6c\")>, <selenium.webdriver.remote.webelement.WebElement (session=\"34a37079ca0a4be24cfb7af1aa622705\", element=\"85818c15-d577-412a-92e8-20f7b3750890\")>, <selenium.webdriver.remote.webelement.WebElement (session=\"34a37079ca0a4be24cfb7af1aa622705\", element=\"2a4f10db-9b85-4c5b-83f0-ea9a239cc0c5\")>, <selenium.webdriver.remote.webelement.WebElement (session=\"34a37079ca0a4be24cfb7af1aa622705\", element=\"82cc425a-8abb-48de-8cc9-8c689b05261f\")>, <selenium.webdriver.remote.webelement.WebElement (session=\"34a37079ca0a4be24cfb7af1aa622705\", element=\"30eb9107-94ce-4b2a-8bbe-9a257830df56\")>, <selenium.webdriver.remote.webelement.WebElement (session=\"34a37079ca0a4be24cfb7af1aa622705\", element=\"3522b059-0649-4db6-824b-d2be8001e72b\")>, <selenium.webdriver.remote.webelement.WebElement (session=\"34a37079ca0a4be24cfb7af1aa622705\", element=\"babef2a0-19d7-40a9-b3ca-01b99d2d6b80\")>, <selenium.webdriver.remote.webelement.WebElement (session=\"34a37079ca0a4be24cfb7af1aa622705\", element=\"a12014b7-227f-48e2-9020-e3def4f4f5ca\")>, <selenium.webdriver.remote.webelement.WebElement (session=\"34a37079ca0a4be24cfb7af1aa622705\", element=\"f20156d4-3705-45d1-811c-88054f860649\")>, <selenium.webdriver.remote.webelement.WebElement (session=\"34a37079ca0a4be24cfb7af1aa622705\", element=\"49b543ea-7cd0-4ac3-9ac6-b09a3254ae39\")>, <selenium.webdriver.remote.webelement.WebElement (session=\"34a37079ca0a4be24cfb7af1aa622705\", element=\"cb78632f-70df-42e9-bc6a-dfa1f8e4bacf\")>, <selenium.webdriver.remote.webelement.WebElement (session=\"34a37079ca0a4be24cfb7af1aa622705\", element=\"095259f8-cd94-4504-bc4c-88683d466798\")>, <selenium.webdriver.remote.webelement.WebElement (session=\"34a37079ca0a4be24cfb7af1aa622705\", element=\"3136b77d-5b1b-4791-806e-71ce8c692bf1\")>, <selenium.webdriver.remote.webelement.WebElement (session=\"34a37079ca0a4be24cfb7af1aa622705\", element=\"91461a64-de10-4b79-ac74-80c6be359386\")>, <selenium.webdriver.remote.webelement.WebElement (session=\"34a37079ca0a4be24cfb7af1aa622705\", element=\"dcc5a075-e49c-435a-99aa-fab17683c915\")>, <selenium.webdriver.remote.webelement.WebElement (session=\"34a37079ca0a4be24cfb7af1aa622705\", element=\"7acdb79e-f75e-4689-a1f2-c8e646a066b4\")>, <selenium.webdriver.remote.webelement.WebElement (session=\"34a37079ca0a4be24cfb7af1aa622705\", element=\"96cfc4ad-3eb7-4d85-8352-a8d6755f17bc\")>, <selenium.webdriver.remote.webelement.WebElement (session=\"34a37079ca0a4be24cfb7af1aa622705\", element=\"f34cf976-2231-4c42-af68-e671b5dc1256\")>, <selenium.webdriver.remote.webelement.WebElement (session=\"34a37079ca0a4be24cfb7af1aa622705\", element=\"22b161ae-237e-4507-807b-3e85af4a71e4\")>, <selenium.webdriver.remote.webelement.WebElement (session=\"34a37079ca0a4be24cfb7af1aa622705\", element=\"6e816705-78d2-4c41-a8fa-d412e658f4a1\")>, <selenium.webdriver.remote.webelement.WebElement (session=\"34a37079ca0a4be24cfb7af1aa622705\", element=\"69aba49c-1c9e-4e37-83eb-720ca8db7d88\")>, <selenium.webdriver.remote.webelement.WebElement (session=\"34a37079ca0a4be24cfb7af1aa622705\", element=\"6b316db0-e393-4a63-aaaa-07ba83c9bfc3\")>, <selenium.webdriver.remote.webelement.WebElement (session=\"34a37079ca0a4be24cfb7af1aa622705\", element=\"a7635107-cfde-4cf1-8e2a-59f30f4c8cdd\")>, <selenium.webdriver.remote.webelement.WebElement (session=\"34a37079ca0a4be24cfb7af1aa622705\", element=\"144258e1-f922-475d-b04f-71e2c10b19f5\")>, <selenium.webdriver.remote.webelement.WebElement (session=\"34a37079ca0a4be24cfb7af1aa622705\", element=\"7d3d5221-b950-4933-9253-7db6293b70be\")>, <selenium.webdriver.remote.webelement.WebElement (session=\"34a37079ca0a4be24cfb7af1aa622705\", element=\"f5107b43-e0d6-4558-81c3-0854831863a0\")>, <selenium.webdriver.remote.webelement.WebElement (session=\"34a37079ca0a4be24cfb7af1aa622705\", element=\"33400603-0bb6-4f21-8011-4c47a418dec0\")>, <selenium.webdriver.remote.webelement.WebElement (session=\"34a37079ca0a4be24cfb7af1aa622705\", element=\"6c217160-ae9e-466f-95bb-b8ca6ba24e84\")>, <selenium.webdriver.remote.webelement.WebElement (session=\"34a37079ca0a4be24cfb7af1aa622705\", element=\"067951f8-40dd-4222-af26-2dd870555ef0\")>, <selenium.webdriver.remote.webelement.WebElement (session=\"34a37079ca0a4be24cfb7af1aa622705\", element=\"6334164d-37a7-4ca4-a664-ed7526f5cda4\")>, <selenium.webdriver.remote.webelement.WebElement (session=\"34a37079ca0a4be24cfb7af1aa622705\", element=\"78c82f54-1d49-4ab2-8d7b-53a6a6df7d58\")>, <selenium.webdriver.remote.webelement.WebElement (session=\"34a37079ca0a4be24cfb7af1aa622705\", element=\"9e279b85-1a41-465c-baaa-58e2415666c6\")>, <selenium.webdriver.remote.webelement.WebElement (session=\"34a37079ca0a4be24cfb7af1aa622705\", element=\"50435d60-adc9-4663-87ec-dd890ba876b5\")>, <selenium.webdriver.remote.webelement.WebElement (session=\"34a37079ca0a4be24cfb7af1aa622705\", element=\"1e08aaa2-39b5-4a7b-94de-74e91d45cd55\")>, <selenium.webdriver.remote.webelement.WebElement (session=\"34a37079ca0a4be24cfb7af1aa622705\", element=\"fcd93e46-2558-4a25-84ad-a36d1119d2dc\")>, <selenium.webdriver.remote.webelement.WebElement (session=\"34a37079ca0a4be24cfb7af1aa622705\", element=\"ded4e379-f21f-40e7-b91f-12e8aa7549ba\")>, <selenium.webdriver.remote.webelement.WebElement (session=\"34a37079ca0a4be24cfb7af1aa622705\", element=\"135aaf11-cc20-47a8-ab4b-8f45f3ae7298\")>, <selenium.webdriver.remote.webelement.WebElement (session=\"34a37079ca0a4be24cfb7af1aa622705\", element=\"11a9a0d9-f8d2-4b89-89ed-b81d5f0ad52b\")>, <selenium.webdriver.remote.webelement.WebElement (session=\"34a37079ca0a4be24cfb7af1aa622705\", element=\"969fb625-845a-4035-9880-28ab7042788f\")>, <selenium.webdriver.remote.webelement.WebElement (session=\"34a37079ca0a4be24cfb7af1aa622705\", element=\"44ad524c-4416-4d0c-9f49-76cf3cf8ea68\")>, <selenium.webdriver.remote.webelement.WebElement (session=\"34a37079ca0a4be24cfb7af1aa622705\", element=\"79299935-b80e-4fee-ad7a-49cc880abfd6\")>, <selenium.webdriver.remote.webelement.WebElement (session=\"34a37079ca0a4be24cfb7af1aa622705\", element=\"31486764-cb88-4b16-b065-a7cccd767b10\")>, <selenium.webdriver.remote.webelement.WebElement (session=\"34a37079ca0a4be24cfb7af1aa622705\", element=\"3be8befe-0e0d-4ec3-8457-1ee1d338d3f1\")>, <selenium.webdriver.remote.webelement.WebElement (session=\"34a37079ca0a4be24cfb7af1aa622705\", element=\"64f41fa5-59bd-45f9-8e45-d8036fe177f1\")>, <selenium.webdriver.remote.webelement.WebElement (session=\"34a37079ca0a4be24cfb7af1aa622705\", element=\"cdefbfe6-250d-4372-af0b-d26c2a9c8dfb\")>, <selenium.webdriver.remote.webelement.WebElement (session=\"34a37079ca0a4be24cfb7af1aa622705\", element=\"813ace3a-562a-48d6-9c58-da24acc1359f\")>, <selenium.webdriver.remote.webelement.WebElement (session=\"34a37079ca0a4be24cfb7af1aa622705\", element=\"29d2bcae-7a2d-42b7-9725-2a2019385c9d\")>, <selenium.webdriver.remote.webelement.WebElement (session=\"34a37079ca0a4be24cfb7af1aa622705\", element=\"ebcfb0a8-0fcc-44cb-b066-02271050171d\")>, <selenium.webdriver.remote.webelement.WebElement (session=\"34a37079ca0a4be24cfb7af1aa622705\", element=\"04269092-49c1-4432-a87a-7d4ffc33b7b4\")>, <selenium.webdriver.remote.webelement.WebElement (session=\"34a37079ca0a4be24cfb7af1aa622705\", element=\"81d74532-08ff-44ce-bed4-d8953d0d4d54\")>, <selenium.webdriver.remote.webelement.WebElement (session=\"34a37079ca0a4be24cfb7af1aa622705\", element=\"a0bb57bc-cdea-4ba9-b427-63a702f6136e\")>, <selenium.webdriver.remote.webelement.WebElement (session=\"34a37079ca0a4be24cfb7af1aa622705\", element=\"8bd75237-c513-4357-ad5e-fbeafbec0e25\")>, <selenium.webdriver.remote.webelement.WebElement (session=\"34a37079ca0a4be24cfb7af1aa622705\", element=\"006a5b70-a24b-4ae6-ba99-4c31f1f52af7\")>, <selenium.webdriver.remote.webelement.WebElement (session=\"34a37079ca0a4be24cfb7af1aa622705\", element=\"7977e8de-8a63-42bc-a4eb-f04b0f6bea0b\")>, <selenium.webdriver.remote.webelement.WebElement (session=\"34a37079ca0a4be24cfb7af1aa622705\", element=\"3de7dc71-571f-4912-9160-575959b6465f\")>, <selenium.webdriver.remote.webelement.WebElement (session=\"34a37079ca0a4be24cfb7af1aa622705\", element=\"eb0d4552-d887-4f6a-95b6-c070cd3e0a64\")>, <selenium.webdriver.remote.webelement.WebElement (session=\"34a37079ca0a4be24cfb7af1aa622705\", element=\"7eb2c5e9-cb8b-4cb4-a54b-b8fd4366f8b6\")>, <selenium.webdriver.remote.webelement.WebElement (session=\"34a37079ca0a4be24cfb7af1aa622705\", element=\"64153799-8d41-4c08-bfde-0b568c6c3b91\")>, <selenium.webdriver.remote.webelement.WebElement (session=\"34a37079ca0a4be24cfb7af1aa622705\", element=\"ba9972d8-f22e-4b60-9ccd-a09cb0ea2175\")>, <selenium.webdriver.remote.webelement.WebElement (session=\"34a37079ca0a4be24cfb7af1aa622705\", element=\"e031ec47-93ce-4cb4-92ff-156ca8cf49e8\")>, <selenium.webdriver.remote.webelement.WebElement (session=\"34a37079ca0a4be24cfb7af1aa622705\", element=\"3bcc4f7e-a063-4bd5-af80-5abbb5894b56\")>, <selenium.webdriver.remote.webelement.WebElement (session=\"34a37079ca0a4be24cfb7af1aa622705\", element=\"4a69606d-e724-43a7-b1ef-7b3da75574f7\")>, <selenium.webdriver.remote.webelement.WebElement (session=\"34a37079ca0a4be24cfb7af1aa622705\", element=\"29970fa8-eb8b-4a65-b6de-859318dec897\")>, <selenium.webdriver.remote.webelement.WebElement (session=\"34a37079ca0a4be24cfb7af1aa622705\", element=\"34c39ca6-a875-47d5-bc56-01d62ce10b51\")>, <selenium.webdriver.remote.webelement.WebElement (session=\"34a37079ca0a4be24cfb7af1aa622705\", element=\"51be1ff6-272d-40b4-9180-b7ae28d47d56\")>, <selenium.webdriver.remote.webelement.WebElement (session=\"34a37079ca0a4be24cfb7af1aa622705\", element=\"4a245dd6-bc94-463f-83de-7bc874f9ec81\")>, <selenium.webdriver.remote.webelement.WebElement (session=\"34a37079ca0a4be24cfb7af1aa622705\", element=\"758b5426-6884-470a-9f93-020386e42d98\")>, <selenium.webdriver.remote.webelement.WebElement (session=\"34a37079ca0a4be24cfb7af1aa622705\", element=\"ca1fbda2-103c-4118-948b-3f927b538bc3\")>, <selenium.webdriver.remote.webelement.WebElement (session=\"34a37079ca0a4be24cfb7af1aa622705\", element=\"698063d5-b53b-49f1-a591-8e2e68876e9d\")>, <selenium.webdriver.remote.webelement.WebElement (session=\"34a37079ca0a4be24cfb7af1aa622705\", element=\"b41d06c3-a370-4fb7-b8b7-cafc50cc12e0\")>, <selenium.webdriver.remote.webelement.WebElement (session=\"34a37079ca0a4be24cfb7af1aa622705\", element=\"69beb36d-dccd-48a2-ac1f-6c7720673b87\")>, <selenium.webdriver.remote.webelement.WebElement (session=\"34a37079ca0a4be24cfb7af1aa622705\", element=\"28a0c9c5-c24e-4731-bc17-d96f4f1ed774\")>, <selenium.webdriver.remote.webelement.WebElement (session=\"34a37079ca0a4be24cfb7af1aa622705\", element=\"5b3c2dab-01d0-4a74-ac3e-ae6f0e428037\")>, <selenium.webdriver.remote.webelement.WebElement (session=\"34a37079ca0a4be24cfb7af1aa622705\", element=\"3704b834-f24e-45e6-bebf-0fdac89cff1e\")>, <selenium.webdriver.remote.webelement.WebElement (session=\"34a37079ca0a4be24cfb7af1aa622705\", element=\"13f4a526-87b2-4754-86e1-5a3574da9664\")>, <selenium.webdriver.remote.webelement.WebElement (session=\"34a37079ca0a4be24cfb7af1aa622705\", element=\"058d9025-fb2b-463e-bb4e-700a51e4f2a4\")>, <selenium.webdriver.remote.webelement.WebElement (session=\"34a37079ca0a4be24cfb7af1aa622705\", element=\"3195eca4-a8b1-4525-bb6f-8f4b92fd588f\")>, <selenium.webdriver.remote.webelement.WebElement (session=\"34a37079ca0a4be24cfb7af1aa622705\", element=\"0a062074-6564-4373-b471-087b0f7ed71d\")>, <selenium.webdriver.remote.webelement.WebElement (session=\"34a37079ca0a4be24cfb7af1aa622705\", element=\"a83ffc3b-757c-4d29-ab63-6de24083d019\")>, <selenium.webdriver.remote.webelement.WebElement (session=\"34a37079ca0a4be24cfb7af1aa622705\", element=\"7fb6d607-6b8f-419f-8c99-a5437af8d7a0\")>, <selenium.webdriver.remote.webelement.WebElement (session=\"34a37079ca0a4be24cfb7af1aa622705\", element=\"df6ebae3-42f9-4d3e-ae5c-39c5fd0eed2a\")>, <selenium.webdriver.remote.webelement.WebElement (session=\"34a37079ca0a4be24cfb7af1aa622705\", element=\"0c3dc108-f6c0-4200-98dd-0d8a1f3f27cc\")>, <selenium.webdriver.remote.webelement.WebElement (session=\"34a37079ca0a4be24cfb7af1aa622705\", element=\"03d979f7-dd8e-47ed-9809-edac8fa05238\")>, <selenium.webdriver.remote.webelement.WebElement (session=\"34a37079ca0a4be24cfb7af1aa622705\", element=\"2da3803f-a89c-4bac-9f60-7b841eb78c07\")>, <selenium.webdriver.remote.webelement.WebElement (session=\"34a37079ca0a4be24cfb7af1aa622705\", element=\"054d33c7-0c69-4d4e-8c5c-b2da57318a5f\")>, <selenium.webdriver.remote.webelement.WebElement (session=\"34a37079ca0a4be24cfb7af1aa622705\", element=\"2e674112-78aa-437d-85d6-7bc354678286\")>, <selenium.webdriver.remote.webelement.WebElement (session=\"34a37079ca0a4be24cfb7af1aa622705\", element=\"f49397a8-bbc0-447e-b930-6b77f22a2b22\")>, <selenium.webdriver.remote.webelement.WebElement (session=\"34a37079ca0a4be24cfb7af1aa622705\", element=\"9c5f1e3a-d19c-4f20-81ea-74272b5d2dcf\")>, <selenium.webdriver.remote.webelement.WebElement (session=\"34a37079ca0a4be24cfb7af1aa622705\", element=\"57c7eabe-05d5-4620-a9b8-8c372ce7def7\")>, <selenium.webdriver.remote.webelement.WebElement (session=\"34a37079ca0a4be24cfb7af1aa622705\", element=\"5b716977-a69e-42d0-b3b0-39b15755eb4e\")>, <selenium.webdriver.remote.webelement.WebElement (session=\"34a37079ca0a4be24cfb7af1aa622705\", element=\"fb1e5d9d-1a08-4c71-b185-49338df56744\")>, <selenium.webdriver.remote.webelement.WebElement (session=\"34a37079ca0a4be24cfb7af1aa622705\", element=\"bcc1619b-f933-4b94-941e-3bdad67da542\")>, <selenium.webdriver.remote.webelement.WebElement (session=\"34a37079ca0a4be24cfb7af1aa622705\", element=\"2c660a76-aa34-4060-918a-7eacaef4d9a0\")>, <selenium.webdriver.remote.webelement.WebElement (session=\"34a37079ca0a4be24cfb7af1aa622705\", element=\"17e784b1-2a3e-49df-ad3f-d6dbfecdacaa\")>, <selenium.webdriver.remote.webelement.WebElement (session=\"34a37079ca0a4be24cfb7af1aa622705\", element=\"9510e29e-1712-4b02-ab0f-fe9cadc69999\")>, <selenium.webdriver.remote.webelement.WebElement (session=\"34a37079ca0a4be24cfb7af1aa622705\", element=\"01f086fe-8037-4439-9234-9085320ba713\")>, <selenium.webdriver.remote.webelement.WebElement (session=\"34a37079ca0a4be24cfb7af1aa622705\", element=\"ed2598d1-7002-4e92-a4aa-716616a2cd41\")>, <selenium.webdriver.remote.webelement.WebElement (session=\"34a37079ca0a4be24cfb7af1aa622705\", element=\"b2fcb9b4-f50c-4ac7-a66a-1f2851233505\")>, <selenium.webdriver.remote.webelement.WebElement (session=\"34a37079ca0a4be24cfb7af1aa622705\", element=\"7cf028b0-b85d-4d12-ae75-ee7eb8f93715\")>, <selenium.webdriver.remote.webelement.WebElement (session=\"34a37079ca0a4be24cfb7af1aa622705\", element=\"f4a860b8-69b7-4865-9bd6-c23e3911fe6f\")>, <selenium.webdriver.remote.webelement.WebElement (session=\"34a37079ca0a4be24cfb7af1aa622705\", element=\"f7628807-d548-461b-9cce-c7464f31d33b\")>, <selenium.webdriver.remote.webelement.WebElement (session=\"34a37079ca0a4be24cfb7af1aa622705\", element=\"f3f2a4ed-5f93-4ee0-ad31-661d7e91e9da\")>, <selenium.webdriver.remote.webelement.WebElement (session=\"34a37079ca0a4be24cfb7af1aa622705\", element=\"44b800cd-4747-42be-8bd7-a26e5dd1fe1b\")>, <selenium.webdriver.remote.webelement.WebElement (session=\"34a37079ca0a4be24cfb7af1aa622705\", element=\"c39adf4a-f7b3-4b54-a127-02d6bb505d38\")>, <selenium.webdriver.remote.webelement.WebElement (session=\"34a37079ca0a4be24cfb7af1aa622705\", element=\"422e1369-51fb-484a-a609-68dbdef5bb37\")>, <selenium.webdriver.remote.webelement.WebElement (session=\"34a37079ca0a4be24cfb7af1aa622705\", element=\"83da71eb-a3ff-4b16-b931-2a98cb256d40\")>, <selenium.webdriver.remote.webelement.WebElement (session=\"34a37079ca0a4be24cfb7af1aa622705\", element=\"f56c6aee-3b30-4289-b275-80720b1db102\")>, <selenium.webdriver.remote.webelement.WebElement (session=\"34a37079ca0a4be24cfb7af1aa622705\", element=\"c884910e-ff47-443b-97f0-5609c2f67361\")>, <selenium.webdriver.remote.webelement.WebElement (session=\"34a37079ca0a4be24cfb7af1aa622705\", element=\"b73d6675-cbb7-4125-99cb-a977ea2106eb\")>, <selenium.webdriver.remote.webelement.WebElement (session=\"34a37079ca0a4be24cfb7af1aa622705\", element=\"43c9fcda-97a7-44a0-a080-bfe93302bfbf\")>, <selenium.webdriver.remote.webelement.WebElement (session=\"34a37079ca0a4be24cfb7af1aa622705\", element=\"367d6bb5-295f-4add-b8c7-adb30b653a41\")>, <selenium.webdriver.remote.webelement.WebElement (session=\"34a37079ca0a4be24cfb7af1aa622705\", element=\"7fadba7c-be43-42f2-ada6-9718b129c41b\")>, <selenium.webdriver.remote.webelement.WebElement (session=\"34a37079ca0a4be24cfb7af1aa622705\", element=\"c6780f4e-4d35-4113-8b8e-6a34fb4e2411\")>, <selenium.webdriver.remote.webelement.WebElement (session=\"34a37079ca0a4be24cfb7af1aa622705\", element=\"6b13f24e-5afe-412d-a2d3-cfe8cb92b791\")>, <selenium.webdriver.remote.webelement.WebElement (session=\"34a37079ca0a4be24cfb7af1aa622705\", element=\"311ce11e-91ba-4c93-a9c8-e2cb24684e74\")>, <selenium.webdriver.remote.webelement.WebElement (session=\"34a37079ca0a4be24cfb7af1aa622705\", element=\"423b9d64-fbed-4989-ac03-b91c1c1fd612\")>, <selenium.webdriver.remote.webelement.WebElement (session=\"34a37079ca0a4be24cfb7af1aa622705\", element=\"e968cc9c-1db7-49ce-b170-798d11bcb0a0\")>, <selenium.webdriver.remote.webelement.WebElement (session=\"34a37079ca0a4be24cfb7af1aa622705\", element=\"7229b74f-df1d-4440-96b5-c6f84c640963\")>, <selenium.webdriver.remote.webelement.WebElement (session=\"34a37079ca0a4be24cfb7af1aa622705\", element=\"7c7ca968-752d-40cf-98f3-58ce6e965dfd\")>, <selenium.webdriver.remote.webelement.WebElement (session=\"34a37079ca0a4be24cfb7af1aa622705\", element=\"b2b6caf9-4529-4d89-81c4-8fc51597d028\")>, <selenium.webdriver.remote.webelement.WebElement (session=\"34a37079ca0a4be24cfb7af1aa622705\", element=\"9e1da8c7-0e55-4f40-bd99-635324434ca4\")>, <selenium.webdriver.remote.webelement.WebElement (session=\"34a37079ca0a4be24cfb7af1aa622705\", element=\"3b5676be-c7fa-4514-ae0e-4b16f01171d6\")>, <selenium.webdriver.remote.webelement.WebElement (session=\"34a37079ca0a4be24cfb7af1aa622705\", element=\"53ffa809-df3c-4338-a296-f51cb4afd573\")>, <selenium.webdriver.remote.webelement.WebElement (session=\"34a37079ca0a4be24cfb7af1aa622705\", element=\"06a7f72c-2a5e-4d4e-a754-5024f672dec5\")>, <selenium.webdriver.remote.webelement.WebElement (session=\"34a37079ca0a4be24cfb7af1aa622705\", element=\"acf6b1d3-0f96-4608-914a-b30638fcccb7\")>, <selenium.webdriver.remote.webelement.WebElement (session=\"34a37079ca0a4be24cfb7af1aa622705\", element=\"52e58617-1168-4fb4-82f4-ee91f25ea56d\")>, <selenium.webdriver.remote.webelement.WebElement (session=\"34a37079ca0a4be24cfb7af1aa622705\", element=\"af638d4c-9c0e-47f4-baf6-1503ac552008\")>, <selenium.webdriver.remote.webelement.WebElement (session=\"34a37079ca0a4be24cfb7af1aa622705\", element=\"c4bd12c9-b549-42f9-a5bc-3d2d9b5287df\")>, <selenium.webdriver.remote.webelement.WebElement (session=\"34a37079ca0a4be24cfb7af1aa622705\", element=\"4694b6f0-249f-4298-b630-27f8218f9170\")>, <selenium.webdriver.remote.webelement.WebElement (session=\"34a37079ca0a4be24cfb7af1aa622705\", element=\"32a6d201-eb75-4cb3-94c0-e92ee1e5d73b\")>, <selenium.webdriver.remote.webelement.WebElement (session=\"34a37079ca0a4be24cfb7af1aa622705\", element=\"510bd920-e9ed-4d43-bc99-256ff273ac00\")>, <selenium.webdriver.remote.webelement.WebElement (session=\"34a37079ca0a4be24cfb7af1aa622705\", element=\"ef53a74c-f558-423c-a92f-997462cf7366\")>, <selenium.webdriver.remote.webelement.WebElement (session=\"34a37079ca0a4be24cfb7af1aa622705\", element=\"2a7c84c8-c001-4697-9d82-43fd87b9900b\")>, <selenium.webdriver.remote.webelement.WebElement (session=\"34a37079ca0a4be24cfb7af1aa622705\", element=\"7b20054d-04e4-4b1f-b729-6da7b68774eb\")>, <selenium.webdriver.remote.webelement.WebElement (session=\"34a37079ca0a4be24cfb7af1aa622705\", element=\"37931d4e-0954-4d1a-a6c7-13626f428efc\")>, <selenium.webdriver.remote.webelement.WebElement (session=\"34a37079ca0a4be24cfb7af1aa622705\", element=\"7e75f36c-ca7e-4304-b369-75e80d2721f8\")>, <selenium.webdriver.remote.webelement.WebElement (session=\"34a37079ca0a4be24cfb7af1aa622705\", element=\"56f19a3e-9225-4eed-bf3f-1c26d6b97f82\")>, <selenium.webdriver.remote.webelement.WebElement (session=\"34a37079ca0a4be24cfb7af1aa622705\", element=\"caa5c9ed-f481-40ef-92a7-075135e0a653\")>, <selenium.webdriver.remote.webelement.WebElement (session=\"34a37079ca0a4be24cfb7af1aa622705\", element=\"e6bdcb3a-4f90-4b3a-a41d-783b4af0c67d\")>, <selenium.webdriver.remote.webelement.WebElement (session=\"34a37079ca0a4be24cfb7af1aa622705\", element=\"22ce46b4-92f4-465d-806e-296cb0eab595\")>, <selenium.webdriver.remote.webelement.WebElement (session=\"34a37079ca0a4be24cfb7af1aa622705\", element=\"cf1615b0-d470-45f2-985d-ad3bc0ce0253\")>, <selenium.webdriver.remote.webelement.WebElement (session=\"34a37079ca0a4be24cfb7af1aa622705\", element=\"3d09728c-bab8-4f98-b84b-f9918dd36dc8\")>, <selenium.webdriver.remote.webelement.WebElement (session=\"34a37079ca0a4be24cfb7af1aa622705\", element=\"b2d6d4f4-a79c-4274-8ba3-395bceb29ca9\")>, <selenium.webdriver.remote.webelement.WebElement (session=\"34a37079ca0a4be24cfb7af1aa622705\", element=\"760433b5-e22f-4c63-a8ac-29d884b395d7\")>, <selenium.webdriver.remote.webelement.WebElement (session=\"34a37079ca0a4be24cfb7af1aa622705\", element=\"d548742a-d30c-4478-88a6-c5f291af5bc2\")>, <selenium.webdriver.remote.webelement.WebElement (session=\"34a37079ca0a4be24cfb7af1aa622705\", element=\"3d40242a-73a4-4385-b0e2-8768b2d6bb89\")>, <selenium.webdriver.remote.webelement.WebElement (session=\"34a37079ca0a4be24cfb7af1aa622705\", element=\"bb635dfd-54ae-4aab-9263-6adaa6b3f9c4\")>, <selenium.webdriver.remote.webelement.WebElement (session=\"34a37079ca0a4be24cfb7af1aa622705\", element=\"d7ac3e09-c900-4b7c-b011-07ad01b540cd\")>, <selenium.webdriver.remote.webelement.WebElement (session=\"34a37079ca0a4be24cfb7af1aa622705\", element=\"a48cc525-c8af-4bca-a797-958baa4f751b\")>, <selenium.webdriver.remote.webelement.WebElement (session=\"34a37079ca0a4be24cfb7af1aa622705\", element=\"44059b30-64aa-4666-9fe1-31c0a225c9cb\")>, <selenium.webdriver.remote.webelement.WebElement (session=\"34a37079ca0a4be24cfb7af1aa622705\", element=\"05926ab4-e6f6-4785-b553-624568320cb5\")>, <selenium.webdriver.remote.webelement.WebElement (session=\"34a37079ca0a4be24cfb7af1aa622705\", element=\"a278b5cc-e1e6-462f-9f70-4f1eb9499f91\")>, <selenium.webdriver.remote.webelement.WebElement (session=\"34a37079ca0a4be24cfb7af1aa622705\", element=\"7d0a8c0a-7a8c-4938-b669-c3d69cd8dc2a\")>, <selenium.webdriver.remote.webelement.WebElement (session=\"34a37079ca0a4be24cfb7af1aa622705\", element=\"018c9dd1-5517-487d-9932-dfe519285030\")>, <selenium.webdriver.remote.webelement.WebElement (session=\"34a37079ca0a4be24cfb7af1aa622705\", element=\"fa870f90-8ced-4094-adfc-0a3bc557a605\")>, <selenium.webdriver.remote.webelement.WebElement (session=\"34a37079ca0a4be24cfb7af1aa622705\", element=\"c02a8925-c698-43b6-9c74-6ea709c83d72\")>, <selenium.webdriver.remote.webelement.WebElement (session=\"34a37079ca0a4be24cfb7af1aa622705\", element=\"b90444c7-2f23-4c35-88ca-7153bdeea6aa\")>, <selenium.webdriver.remote.webelement.WebElement (session=\"34a37079ca0a4be24cfb7af1aa622705\", element=\"bf482fcd-3c1a-483a-b2d8-d5ac67eec87d\")>, <selenium.webdriver.remote.webelement.WebElement (session=\"34a37079ca0a4be24cfb7af1aa622705\", element=\"741d3337-f158-45b6-ad9e-ab96158007e1\")>, <selenium.webdriver.remote.webelement.WebElement (session=\"34a37079ca0a4be24cfb7af1aa622705\", element=\"d6e09a60-9d46-493e-9ef8-94a54eebee29\")>, <selenium.webdriver.remote.webelement.WebElement (session=\"34a37079ca0a4be24cfb7af1aa622705\", element=\"cac9eeff-78ad-4cf2-a59d-bb0ac964736e\")>, <selenium.webdriver.remote.webelement.WebElement (session=\"34a37079ca0a4be24cfb7af1aa622705\", element=\"09a0c2ed-3992-4d72-bd8b-dee8a8547204\")>, <selenium.webdriver.remote.webelement.WebElement (session=\"34a37079ca0a4be24cfb7af1aa622705\", element=\"7df9b781-4db3-4ebe-9c64-c7a3fcda2851\")>, <selenium.webdriver.remote.webelement.WebElement (session=\"34a37079ca0a4be24cfb7af1aa622705\", element=\"afe070db-5a6d-466a-8d9f-bed2df3c2a31\")>, <selenium.webdriver.remote.webelement.WebElement (session=\"34a37079ca0a4be24cfb7af1aa622705\", element=\"70f1dbe2-8e0c-4204-a90f-5b599d411f3e\")>, <selenium.webdriver.remote.webelement.WebElement (session=\"34a37079ca0a4be24cfb7af1aa622705\", element=\"5eeb3786-c2ae-4a1b-8cf6-e56c3540009b\")>]\n",
      "[]\n"
     ]
    },
    {
     "ename": "NoSuchElementException",
     "evalue": "Message: no such element: Unable to locate element: {\"method\":\"css selector\",\"selector\":\"[id=\"gallery-layout-container\"]\"}\n  (Session info: MicrosoftEdge=113.0.1774.57)\n",
     "output_type": "error",
     "traceback": [
      "\u001b[1;31m---------------------------------------------------------------------------\u001b[0m",
      "\u001b[1;31mNoSuchElementException\u001b[0m                    Traceback (most recent call last)",
      "Cell \u001b[1;32mIn[10], line 10\u001b[0m\n\u001b[0;32m      6\u001b[0m time\u001b[39m.\u001b[39msleep(\u001b[39m10\u001b[39m)\n\u001b[0;32m      7\u001b[0m \u001b[39m# obtener el html de la pagina web link en formato utf-8\u001b[39;00m\n\u001b[1;32m---> 10\u001b[0m productosChedraui \u001b[39m=\u001b[39m driver\u001b[39m.\u001b[39;49mfind_element(By\u001b[39m.\u001b[39;49mID, \u001b[39m\"\u001b[39;49m\u001b[39mgallery-layout-container\u001b[39;49m\u001b[39m\"\u001b[39;49m)\n\u001b[0;32m     11\u001b[0m \u001b[39mprint\u001b[39m(\u001b[39m'\u001b[39m\u001b[39muno\u001b[39m\u001b[39m'\u001b[39m)\n\u001b[0;32m     12\u001b[0m \u001b[39mprint\u001b[39m(productosChedraui)\n",
      "File \u001b[1;32m~\\AppData\\Local\\Packages\\PythonSoftwareFoundation.Python.3.10_qbz5n2kfra8p0\\LocalCache\\local-packages\\Python310\\site-packages\\selenium\\webdriver\\remote\\webdriver.py:976\u001b[0m, in \u001b[0;36mWebDriver.find_element\u001b[1;34m(self, by, value)\u001b[0m\n\u001b[0;32m    974\u001b[0m         by \u001b[39m=\u001b[39m By\u001b[39m.\u001b[39mCSS_SELECTOR\n\u001b[0;32m    975\u001b[0m         value \u001b[39m=\u001b[39m \u001b[39m'\u001b[39m\u001b[39m[name=\u001b[39m\u001b[39m\"\u001b[39m\u001b[39m%s\u001b[39;00m\u001b[39m\"\u001b[39m\u001b[39m]\u001b[39m\u001b[39m'\u001b[39m \u001b[39m%\u001b[39m value\n\u001b[1;32m--> 976\u001b[0m \u001b[39mreturn\u001b[39;00m \u001b[39mself\u001b[39;49m\u001b[39m.\u001b[39;49mexecute(Command\u001b[39m.\u001b[39;49mFIND_ELEMENT, {\n\u001b[0;32m    977\u001b[0m     \u001b[39m'\u001b[39;49m\u001b[39musing\u001b[39;49m\u001b[39m'\u001b[39;49m: by,\n\u001b[0;32m    978\u001b[0m     \u001b[39m'\u001b[39;49m\u001b[39mvalue\u001b[39;49m\u001b[39m'\u001b[39;49m: value})[\u001b[39m'\u001b[39m\u001b[39mvalue\u001b[39m\u001b[39m'\u001b[39m]\n",
      "File \u001b[1;32m~\\AppData\\Local\\Packages\\PythonSoftwareFoundation.Python.3.10_qbz5n2kfra8p0\\LocalCache\\local-packages\\Python310\\site-packages\\selenium\\webdriver\\remote\\webdriver.py:321\u001b[0m, in \u001b[0;36mWebDriver.execute\u001b[1;34m(self, driver_command, params)\u001b[0m\n\u001b[0;32m    319\u001b[0m response \u001b[39m=\u001b[39m \u001b[39mself\u001b[39m\u001b[39m.\u001b[39mcommand_executor\u001b[39m.\u001b[39mexecute(driver_command, params)\n\u001b[0;32m    320\u001b[0m \u001b[39mif\u001b[39;00m response:\n\u001b[1;32m--> 321\u001b[0m     \u001b[39mself\u001b[39;49m\u001b[39m.\u001b[39;49merror_handler\u001b[39m.\u001b[39;49mcheck_response(response)\n\u001b[0;32m    322\u001b[0m     response[\u001b[39m'\u001b[39m\u001b[39mvalue\u001b[39m\u001b[39m'\u001b[39m] \u001b[39m=\u001b[39m \u001b[39mself\u001b[39m\u001b[39m.\u001b[39m_unwrap_value(\n\u001b[0;32m    323\u001b[0m         response\u001b[39m.\u001b[39mget(\u001b[39m'\u001b[39m\u001b[39mvalue\u001b[39m\u001b[39m'\u001b[39m, \u001b[39mNone\u001b[39;00m))\n\u001b[0;32m    324\u001b[0m     \u001b[39mreturn\u001b[39;00m response\n",
      "File \u001b[1;32m~\\AppData\\Local\\Packages\\PythonSoftwareFoundation.Python.3.10_qbz5n2kfra8p0\\LocalCache\\local-packages\\Python310\\site-packages\\selenium\\webdriver\\remote\\errorhandler.py:242\u001b[0m, in \u001b[0;36mErrorHandler.check_response\u001b[1;34m(self, response)\u001b[0m\n\u001b[0;32m    240\u001b[0m         alert_text \u001b[39m=\u001b[39m value[\u001b[39m'\u001b[39m\u001b[39malert\u001b[39m\u001b[39m'\u001b[39m]\u001b[39m.\u001b[39mget(\u001b[39m'\u001b[39m\u001b[39mtext\u001b[39m\u001b[39m'\u001b[39m)\n\u001b[0;32m    241\u001b[0m     \u001b[39mraise\u001b[39;00m exception_class(message, screen, stacktrace, alert_text)\n\u001b[1;32m--> 242\u001b[0m \u001b[39mraise\u001b[39;00m exception_class(message, screen, stacktrace)\n",
      "\u001b[1;31mNoSuchElementException\u001b[0m: Message: no such element: Unable to locate element: {\"method\":\"css selector\",\"selector\":\"[id=\"gallery-layout-container\"]\"}\n  (Session info: MicrosoftEdge=113.0.1774.57)\n"
     ]
    }
   ],
   "source": [
    "# obtener los precios de los productos de la pagina web link\n",
    "for key, value in diccionarioC.items():\n",
    "    driver.get(value[\"url\"])\n",
    "    html = \"\"\n",
    "    # esperar 6 segundos\n",
    "    time.sleep(10)\n",
    "    # obtener el html de la pagina web link en formato utf-8\n",
    "  \n",
    "    \n",
    "    productosChedraui = driver.find_element(By.ID, \"gallery-layout-container\")\n",
    "    print('uno')\n",
    "    print(productosChedraui)\n",
    "    productosChedraui = productosChedraui.find_elements(By.TAG_NAME, \"div\")\n",
    "    print('dos')\n",
    "    print(productosChedraui)\n",
    "    contador = 1\n",
    "\n",
    "    nombre_complete = \"\"\n",
    "    precio_complete = \"\"\n",
    "\n",
    "    for x in productosChedraui:\n",
    "\n",
    "        elementoPrecio = \"/html/body/div[2]/div/div[1]/div/div[3]/div/div/section/div[2]/div/div/div/div[4]/div/div[2]/div/div/div/div/div[3]/div/div/div/div[\" + str(\n",
    "            contador)+\"]/section/a/article/div[6]/div/div/span/span\"\n",
    "        elementoNombre = \"/html/body/div[2]/div/div[1]/div/div[3]/div/div/section/div[2]/div/div/div/div[4]/div/div[2]/div/div/div/div/div[3]/div/div/div/div[\"+str(\n",
    "            contador)+\"]/section/a/article/div[5]/h3/span\"\n",
    "        elementoUrl = \"/html/body/div[2]/div/div[1]/div/div[3]/div/div/section/div[2]/div/div/div/div[4]/div/div[2]/div/div/div/div/div[3]/div/div/div/div[\"+str(\n",
    "            contador)+\"]/section/a\"\n",
    "\n",
    "        try:\n",
    "            precio = x.find_element(By.XPATH, elementoPrecio).text\n",
    "            print(precio)\n",
    "        except Exception as e:\n",
    "            precio = \"\"\n",
    "\n",
    "        try:\n",
    "            nombre = x.find_element(By.XPATH, elementoNombre).text\n",
    "            print(nombre)\n",
    "        except:\n",
    "            nombre = \"\"\n",
    "        try:\n",
    "            url = x.find_element(By.XPATH, elementoUrl).get_attribute(\"href\")\n",
    "            print(url)\n",
    "        except:\n",
    "            url = \"\"\n",
    "\n",
    "        if (nombre != \"\" and nombre != None):\n",
    "            # print(\"Nombre: \"+ nombre)\n",
    "            nombre_complete = nombre\n",
    "        if (precio != \"\" and precio != None):\n",
    "            # print(\"Precio: \"+ precio)\n",
    "            precio_complete = precio\n",
    "        if (url != \"\" and url != None):\n",
    "            # print(\"Url: \"+ url)\n",
    "            url_complete = url\n",
    "\n",
    "        if (nombre_complete == \"\" or precio_complete == \"\" or url_complete == \"\"):\n",
    "            continue\n",
    "\n",
    "        producto = {\n",
    "            \"nombre\": nombre_complete,\n",
    "            \"busqueda\": value[\"nombre\"],\n",
    "            \"precio\": precio_complete,\n",
    "            \"url\": url_complete,\n",
    "            \"tienda\": \"Chedraui\",\n",
    "            \"fecha\": datetime.datetime.now().strftime(\"%Y-%m-%d\")\n",
    "\n",
    "        }\n",
    "        print(producto)\n",
    "\n",
    "        contador = contador + 1\n",
    "\n",
    "        pChedraui.append(producto)\n",
    "    print(pChedraui)\n",
    "contador = 1\n",
    "driver.quit()\n"
   ]
  },
  {
   "cell_type": "code",
   "execution_count": null,
   "metadata": {},
   "outputs": [],
   "source": [
    "#pChedraui"
   ]
  },
  {
   "cell_type": "code",
   "execution_count": null,
   "metadata": {},
   "outputs": [],
   "source": [
    "# guardar los datos de los productos en un archivo json\n",
    "import json\n",
    "with open('productosChedraui.json', 'w') as outfile:\n",
    "    json.dump(pChedraui, outfile)\n"
   ]
  },
  {
   "attachments": {},
   "cell_type": "markdown",
   "metadata": {},
   "source": [
    "### Webscraping Soriana"
   ]
  },
  {
   "cell_type": "code",
   "execution_count": null,
   "metadata": {},
   "outputs": [
    {
     "name": "stderr",
     "output_type": "stream",
     "text": [
      "C:\\Users\\DELL\\AppData\\Local\\Temp\\ipykernel_16424\\154261541.py:9: DeprecationWarning: Selenium Tools for Microsoft Edge is deprecated. Please upgrade to Selenium 4 which has built-in support for Microsoft Edge (Chromium): https://docs.microsoft.com/en-us/microsoft-edge/webdriver-chromium/#upgrading-from-selenium-3\n",
      "  driver = Edge(options=options)\n"
     ]
    },
    {
     "name": "stdout",
     "output_type": "stream",
     "text": [
      "Message: no such element: Unable to locate element: {\"method\":\"xpath\",\"selector\":\"/html/body/div[1]/div[3]/div/wainclude/div[1]/div[3]/div[2]/div/div[0]/div[1]/div/div[1]/a/img\"}\n",
      "  (Session info: MicrosoftEdge=113.0.1774.57)\n",
      "\n",
      "Message: no such element: Unable to locate element: {\"method\":\"xpath\",\"selector\":\"/html/body/div[1]/div[3]/div/wainclude/div[1]/div[3]/div[2]/div/div[1]/div[1]/div/div[1]/a/img\"}\n",
      "  (Session info: MicrosoftEdge=113.0.1774.57)\n",
      "\n",
      "Message: no such element: Unable to locate element: {\"method\":\"xpath\",\"selector\":\"/html/body/div[1]/div[3]/div/wainclude/div[1]/div[3]/div[2]/div/div[17]/div[1]/div/div[1]/a/img\"}\n",
      "  (Session info: MicrosoftEdge=113.0.1774.57)\n",
      "\n"
     ]
    }
   ],
   "source": [
    "options = EdgeOptions()\n",
    "options.use_chromium = True\n",
    "options.headless = True\n",
    "options.add_experimental_option(\n",
    "    \"excludeSwitches\", ['enable-automation'])\n",
    "options.add_experimental_option('useAutomationExtension', False)\n",
    "options.add_argument('--disable-blink-features=AutomationControlled')\n",
    "options.add_argument('--lang=en_US.utf-8')\n",
    "driver = Edge(options=options)\n",
    "driver = webdriver.Edge(PATH)\n",
    "driver.maximize_window()\n",
    "\n",
    "#Arreglo de productos de soriana\n",
    "pSoriana = []\n",
    "\n",
    "driver.get(\n",
    "    \"https://www.soriana.com/buscar?q=gatos&cid=&search-button=&page=2&cref=0&view=grid\")\n",
    "html = \"\"\n",
    "# esperar 5 segundos\n",
    "time.sleep(6)\n",
    "# obtener el html de la pagina web link\n",
    "html = driver.page_source\n",
    "# iterar 20 veces para obtener los 20 productos de la pagina web\n",
    "for x in range(20):\n",
    "    datos = \"/html/body/div[1]/div[3]/div/wainclude/div[1]/div[3]/div[2]/div/div[\" + \\\n",
    "        str(x)+\"]/div[1]/div/div[1]/a/img\"\n",
    "\n",
    "    url = \"/html/body/div[1]/div[3]/div/wainclude/div[1]/div[3]/div[2]/div/div[\" + \\\n",
    "        str(x)+\"]/div[1]/div/div[1]/a\"\n",
    "\n",
    "    try:\n",
    "\n",
    "        objeto = driver.find_element(By.XPATH, datos)\n",
    "        url = driver.find_element(By.XPATH, url)\n",
    "        texto_json = (objeto.get_attribute(\"data-cbt\"))\n",
    "        ulr = url.get_attribute(\"href\")\n",
    "\n",
    "        objeto_json = json.loads(texto_json)\n",
    "        # Acceder a la lista de productos\n",
    "        productos = objeto_json['ecommerce']['click']['products']\n",
    "\n",
    "        # Imprimir los productos\n",
    "        # print(productos)\n",
    "\n",
    "        a = productos[0]\n",
    "        nombre_producto = productos[0]['name']\n",
    "        precio_producto = productos[0]['price']\n",
    "        url_producto = ulr\n",
    "\n",
    "        # print(\"Precio\", a['price'])\n",
    "        # print(\"Nombre\", a['name'])\n",
    "        # print(\"Url\", ulr)\n",
    "\n",
    "        producto = {\n",
    "            \"precio\": a['price'],\n",
    "            \"busqueda\": \"Comida para gato\",\n",
    "            \"nombre\": a['name'],\n",
    "            \"url\": ulr,\n",
    "            \"tienda\": \"Soriana\",\n",
    "            \"fecha\": datetime.datetime.now().strftime(\"%Y-%m-%d\")\n",
    "        }\n",
    "\n",
    "        pSoriana.append(producto)\n",
    "\n",
    "    except Exception as e:\n",
    "        objeto = \"\"\n",
    "        print(e)\n",
    "time.sleep(2)\n",
    "driver.quit()\n"
   ]
  },
  {
   "attachments": {},
   "cell_type": "markdown",
   "metadata": {},
   "source": [
    "-------------------------"
   ]
  },
  {
   "attachments": {},
   "cell_type": "markdown",
   "metadata": {},
   "source": [
    "En este caso especifico no haremos uso de un diccionario para iterar la información , debido justamente a que presentamos un error en nuestra ejecucion de un error con un forbidden :_c "
   ]
  },
  {
   "cell_type": "code",
   "execution_count": null,
   "metadata": {},
   "outputs": [
    {
     "name": "stderr",
     "output_type": "stream",
     "text": [
      "C:\\Users\\DELL\\AppData\\Local\\Temp\\ipykernel_16424\\42791739.py:9: DeprecationWarning: Selenium Tools for Microsoft Edge is deprecated. Please upgrade to Selenium 4 which has built-in support for Microsoft Edge (Chromium): https://docs.microsoft.com/en-us/microsoft-edge/webdriver-chromium/#upgrading-from-selenium-3\n",
      "  driver = Edge(options=options)\n"
     ]
    },
    {
     "name": "stdout",
     "output_type": "stream",
     "text": [
      "Message: no such element: Unable to locate element: {\"method\":\"xpath\",\"selector\":\"/html/body/div[1]/div[3]/div/wainclude/div[1]/div[3]/div[2]/div/div[0]/div[1]/div/div[1]/a/img\"}\n",
      "  (Session info: MicrosoftEdge=113.0.1774.57)\n",
      "\n",
      "Message: no such element: Unable to locate element: {\"method\":\"xpath\",\"selector\":\"/html/body/div[1]/div[3]/div/wainclude/div[1]/div[3]/div[2]/div/div[1]/div[1]/div/div[1]/a/img\"}\n",
      "  (Session info: MicrosoftEdge=113.0.1774.57)\n",
      "\n",
      "Message: no such element: Unable to locate element: {\"method\":\"xpath\",\"selector\":\"/html/body/div[1]/div[3]/div/wainclude/div[1]/div[3]/div[2]/div/div[17]/div[1]/div/div[1]/a/img\"}\n",
      "  (Session info: MicrosoftEdge=113.0.1774.57)\n",
      "\n"
     ]
    }
   ],
   "source": [
    "options = EdgeOptions()\n",
    "options.use_chromium = True\n",
    "options.headless = True\n",
    "options.add_experimental_option(\n",
    "    \"excludeSwitches\", ['enable-automation'])\n",
    "options.add_experimental_option('useAutomationExtension', False)\n",
    "options.add_argument('--disable-blink-features=AutomationControlled')\n",
    "options.add_argument('--lang=en_US.utf-8')\n",
    "driver = Edge(options=options)\n",
    "\n",
    "\n",
    "driver = webdriver.Edge(PATH)\n",
    "driver.maximize_window()\n",
    "\n",
    "\n",
    "driver.get(\n",
    "    \"https://www.soriana.com/buscar?q=mayonesa&cid=&search-button=&page=2&cref=0&view=grid\")\n",
    "html = \"\"\n",
    "# esperar 5 segundos\n",
    "time.sleep(6)\n",
    "# obtener el html de la pagina web link\n",
    "html = driver.page_source\n",
    "# iterar 20 veces para obtener los 20 productos de la pagina web\n",
    "for x in range(20):\n",
    "    datos = \"/html/body/div[1]/div[3]/div/wainclude/div[1]/div[3]/div[2]/div/div[\" + \\\n",
    "        str(x)+\"]/div[1]/div/div[1]/a/img\"\n",
    "\n",
    "    url = \"/html/body/div[1]/div[3]/div/wainclude/div[1]/div[3]/div[2]/div/div[\" + \\\n",
    "        str(x)+\"]/div[1]/div/div[1]/a\"\n",
    "\n",
    "    try:\n",
    "\n",
    "        objeto = driver.find_element(By.XPATH, datos)\n",
    "        url = driver.find_element(By.XPATH, url)\n",
    "\n",
    "        texto_json = (objeto.get_attribute(\"data-cbt\"))\n",
    "        ulr = url.get_attribute(\"href\")\n",
    "\n",
    "        objeto_json = json.loads(texto_json)\n",
    "\n",
    "        # Acceder a la lista de productos\n",
    "        productos = objeto_json['ecommerce']['click']['products']\n",
    "\n",
    "        a = productos[0]\n",
    "        nombre_producto = productos[0]['name']\n",
    "        precio_producto = productos[0]['price']\n",
    "        url_producto = ulr\n",
    "\n",
    "        producto = {\n",
    "            \"precio\": a['price'],\n",
    "            \"busqueda\": \"Mayonesa\",\n",
    "            \"nombre\": a['name'],\n",
    "            \"url\": ulr,\n",
    "            \"tienda\": \"Soriana\",\n",
    "            \"fecha\": datetime.datetime.now().strftime(\"%Y-%m-%d\")\n",
    "        }\n",
    "\n",
    "        pSoriana.append(producto)\n",
    "\n",
    "    except Exception as e:\n",
    "        objeto = \"\"\n",
    "        print(e)\n",
    "time.sleep(2)\n",
    "driver.quit()\n"
   ]
  },
  {
   "cell_type": "code",
   "execution_count": null,
   "metadata": {},
   "outputs": [
    {
     "name": "stdout",
     "output_type": "stream",
     "text": [
      "Message: no such element: Unable to locate element: {\"method\":\"xpath\",\"selector\":\"/html/body/div[1]/div[3]/div/wainclude/div[1]/div[3]/div[2]/div/div[0]/div[1]/div/div[1]/a/img\"}\n",
      "  (Session info: MicrosoftEdge=113.0.1774.57)\n",
      "\n",
      "Message: no such element: Unable to locate element: {\"method\":\"xpath\",\"selector\":\"/html/body/div[1]/div[3]/div/wainclude/div[1]/div[3]/div[2]/div/div[1]/div[1]/div/div[1]/a/img\"}\n",
      "  (Session info: MicrosoftEdge=113.0.1774.57)\n",
      "\n",
      "<selenium.webdriver.remote.webelement.WebElement (session=\"1f842a5d02f3167822351d314ea5833c\", element=\"d9a93156-1f71-44e0-af1c-73b677c79679\")>\n",
      "<selenium.webdriver.remote.webelement.WebElement (session=\"1f842a5d02f3167822351d314ea5833c\", element=\"b8f36d85-6d5b-4528-9923-23dd98415fd9\")>\n",
      "<selenium.webdriver.remote.webelement.WebElement (session=\"1f842a5d02f3167822351d314ea5833c\", element=\"f84cfec0-e4de-4dd0-a364-50aa49ab2f12\")>\n",
      "<selenium.webdriver.remote.webelement.WebElement (session=\"1f842a5d02f3167822351d314ea5833c\", element=\"2dd5a562-be6d-48ce-aa01-095475314b6a\")>\n",
      "<selenium.webdriver.remote.webelement.WebElement (session=\"1f842a5d02f3167822351d314ea5833c\", element=\"5a299142-a277-4a18-a4a3-ebbf19ce8578\")>\n",
      "<selenium.webdriver.remote.webelement.WebElement (session=\"1f842a5d02f3167822351d314ea5833c\", element=\"eecdfd1e-ae31-42c1-8529-6427d9126a90\")>\n",
      "<selenium.webdriver.remote.webelement.WebElement (session=\"1f842a5d02f3167822351d314ea5833c\", element=\"1d11a936-dd0f-497a-acbc-4ce72c20893a\")>\n",
      "<selenium.webdriver.remote.webelement.WebElement (session=\"1f842a5d02f3167822351d314ea5833c\", element=\"baf0ad31-fdee-4fb1-9281-9442e7b1ca74\")>\n",
      "<selenium.webdriver.remote.webelement.WebElement (session=\"1f842a5d02f3167822351d314ea5833c\", element=\"01298446-e765-4155-b1a0-24518019dabe\")>\n",
      "<selenium.webdriver.remote.webelement.WebElement (session=\"1f842a5d02f3167822351d314ea5833c\", element=\"a6334f5e-caa2-4628-a134-906d53c526cc\")>\n",
      "<selenium.webdriver.remote.webelement.WebElement (session=\"1f842a5d02f3167822351d314ea5833c\", element=\"ce3b709b-0ac1-4175-9cfc-ab5ea351a95d\")>\n",
      "<selenium.webdriver.remote.webelement.WebElement (session=\"1f842a5d02f3167822351d314ea5833c\", element=\"7e5baf85-41cd-49ea-bc75-9a2ae1a680d6\")>\n",
      "<selenium.webdriver.remote.webelement.WebElement (session=\"1f842a5d02f3167822351d314ea5833c\", element=\"5d7f851f-a6de-4505-9a78-178f813ec658\")>\n",
      "<selenium.webdriver.remote.webelement.WebElement (session=\"1f842a5d02f3167822351d314ea5833c\", element=\"5eeaa789-a540-4bc7-aa39-c6c8c1d336f7\")>\n",
      "<selenium.webdriver.remote.webelement.WebElement (session=\"1f842a5d02f3167822351d314ea5833c\", element=\"bd9308dc-82ec-4818-8900-98c6222e117c\")>\n",
      "Message: no such element: Unable to locate element: {\"method\":\"xpath\",\"selector\":\"/html/body/div[1]/div[3]/div/wainclude/div[1]/div[3]/div[2]/div/div[17]/div[1]/div/div[1]/a/img\"}\n",
      "  (Session info: MicrosoftEdge=113.0.1774.57)\n",
      "\n",
      "<selenium.webdriver.remote.webelement.WebElement (session=\"1f842a5d02f3167822351d314ea5833c\", element=\"9a2daa69-35e2-42d6-808d-8a47acd2276f\")>\n",
      "Message: no such element: Unable to locate element: {\"method\":\"xpath\",\"selector\":\"/html/body/div[1]/div[3]/div/wainclude/div[1]/div[3]/div[2]/div/div[19]/div[1]/div/div[1]/a/img\"}\n",
      "  (Session info: MicrosoftEdge=113.0.1774.57)\n",
      "\n"
     ]
    },
    {
     "data": {
      "text/plain": [
       "[{'precio': 154,\n",
       "  'busqueda': 'Fabuloso',\n",
       "  'nombre': 'Limpiador Multiusos Fabuloso Frescura Activa Antibacterial Lavanda 5 l',\n",
       "  'url': 'https://www.soriana.com/limpiador-multiusos-fabuloso-frescura-activa-antibacterial-lavanda-5-l/1045598.html',\n",
       "  'tienda': 'Soriana',\n",
       "  'fecha': '2023-05-31'},\n",
       " {'precio': 34.9,\n",
       "  'busqueda': 'Fabuloso',\n",
       "  'nombre': 'Limpiador Multiusos Fabuloso Frescura Activa Antibacterial Lavanda 2 l',\n",
       "  'url': 'https://www.soriana.com/limpiador-multiusos-fabuloso-frescura-activa-antibacterial-lavanda-2-l/371803.html',\n",
       "  'tienda': 'Soriana',\n",
       "  'fecha': '2023-05-31'},\n",
       " {'precio': 89.9,\n",
       "  'busqueda': 'Fabuloso',\n",
       "  'nombre': 'Limpiador Multiusos Fabuloso Desinfectante Frescura Natural 3.7 lt',\n",
       "  'url': 'https://www.soriana.com/limpiador-multiusos-fabuloso-desinfectante-frescura-natural-3.7-lt/11555638.html',\n",
       "  'tienda': 'Soriana',\n",
       "  'fecha': '2023-05-31'},\n",
       " {'precio': 119,\n",
       "  'busqueda': 'Fabuloso',\n",
       "  'nombre': 'Limpiador Líquido Fabuloso Frescura Activa Mar Fresco 3.7 l',\n",
       "  'url': 'https://www.soriana.com/limpiador-liquido-fabuloso-frescura-activa-mar-fresco-3.7-l/11453952.html',\n",
       "  'tienda': 'Soriana',\n",
       "  'fecha': '2023-05-31'},\n",
       " {'precio': 37.9,\n",
       "  'busqueda': 'Fabuloso',\n",
       "  'nombre': 'Limpiador Líquido Fabuloso Frescura Activa Antibacterial Lavanda 1 l',\n",
       "  'url': 'https://www.soriana.com/limpiador-liquido-fabuloso-frescura-activa-antibacterial-lavanda-1-l/371869.html',\n",
       "  'tienda': 'Soriana',\n",
       "  'fecha': '2023-05-31'},\n",
       " {'precio': 37.9,\n",
       "  'busqueda': 'Fabuloso',\n",
       "  'nombre': 'Limpiador Líquido Fabuloso Frescura Activa Antibacterial Naranja 1 l',\n",
       "  'url': 'https://www.soriana.com/limpiador-liquido-fabuloso-frescura-activa-antibacterial-naranja-1-l/1118035.html',\n",
       "  'tienda': 'Soriana',\n",
       "  'fecha': '2023-05-31'},\n",
       " {'precio': 42.5,\n",
       "  'busqueda': 'Fabuloso',\n",
       "  'nombre': 'Limpiador Fabuloso Limon 1.65lt',\n",
       "  'url': 'https://www.soriana.com/limpiador-fabuloso-limon-1.65lt/11480100.html',\n",
       "  'tienda': 'Soriana',\n",
       "  'fecha': '2023-05-31'},\n",
       " {'precio': 37.9,\n",
       "  'busqueda': 'Fabuloso',\n",
       "  'nombre': 'Limpiador Líquido Fabuloso Antibacterial Mar Fresco 1 lt',\n",
       "  'url': 'https://www.soriana.com/limpiador-liquido-fabuloso-antibacterial-mar-fresco-1-lt/371870.html',\n",
       "  'tienda': 'Soriana',\n",
       "  'fecha': '2023-05-31'},\n",
       " {'precio': 52.5,\n",
       "  'busqueda': 'Fabuloso',\n",
       "  'nombre': 'Limpiador Multiusos Fabuloso Antibacterial y Antiviral Mar Fresco 2 l',\n",
       "  'url': 'https://www.soriana.com/limpiador-multiusos-fabuloso-antibacterial-y-antiviral-mar-fresco-2-l/371805.html',\n",
       "  'tienda': 'Soriana',\n",
       "  'fecha': '2023-05-31'},\n",
       " {'precio': 52.5,\n",
       "  'busqueda': 'Fabuloso',\n",
       "  'nombre': 'Limpiador Líquido Fabuloso Antibacterial Pasión de Frutas 2 l',\n",
       "  'url': 'https://www.soriana.com/limpiador-liquido-fabuloso-antibacterial-pasion-de-frutas-2-l/1484609.html',\n",
       "  'tienda': 'Soriana',\n",
       "  'fecha': '2023-05-31'},\n",
       " {'precio': 37.9,\n",
       "  'busqueda': 'Fabuloso',\n",
       "  'nombre': 'Limpiador Líquido Fabuloso Antibacterial Pasión de Frutas 1 l',\n",
       "  'url': 'https://www.soriana.com/limpiador-liquido-fabuloso-antibacterial-pasion-de-frutas-1-l/1135174.html',\n",
       "  'tienda': 'Soriana',\n",
       "  'fecha': '2023-05-31'},\n",
       " {'precio': 71.9,\n",
       "  'busqueda': 'Fabuloso',\n",
       "  'nombre': 'Limpiador Multiusos Fabuloso Natural Essentials Eucalipto 1.7 lt',\n",
       "  'url': 'https://www.soriana.com/limpiador-multiusos-fabuloso-natural-essentials-eucalipto-1.7-lt/11492176.html',\n",
       "  'tienda': 'Soriana',\n",
       "  'fecha': '2023-05-31'},\n",
       " {'precio': 71.9,\n",
       "  'busqueda': 'Fabuloso',\n",
       "  'nombre': 'Limpiador Multiusos Fabuloso Complete Menta Refrescante 1.7 l',\n",
       "  'url': 'https://www.soriana.com/limpiador-multiusos-fabuloso-complete-menta-refrescante-1.7-l/11297079.html',\n",
       "  'tienda': 'Soriana',\n",
       "  'fecha': '2023-05-31'},\n",
       " {'precio': 38.9,\n",
       "  'busqueda': 'Fabuloso',\n",
       "  'nombre': 'Limpiador Líquido Fabuloso Eucalipto y Cítricos 828 ml',\n",
       "  'url': 'https://www.soriana.com/limpiador-liquido-fabuloso-eucalipto-y-citricos-828-ml/11493147.html',\n",
       "  'tienda': 'Soriana',\n",
       "  'fecha': '2023-05-31'},\n",
       " {'precio': 71.9,\n",
       "  'busqueda': 'Fabuloso',\n",
       "  'nombre': 'Limpiador Multiusos Fabuloso Desinfectante Frescura Natural 1.7 lt',\n",
       "  'url': 'https://www.soriana.com/limpiador-multiusos-fabuloso-desinfectante-frescura-natural-1.7-lt/11520130.html',\n",
       "  'tienda': 'Soriana',\n",
       "  'fecha': '2023-05-31'},\n",
       " {'precio': 71.9,\n",
       "  'busqueda': 'Fabuloso',\n",
       "  'nombre': 'Limpiador Multiusos Fabuloso Desinfectante Frescura Cítrica 1.7 lt',\n",
       "  'url': 'https://www.soriana.com/limpiador-multiusos-fabuloso-desinfectante-frescura-citrica-1.7-lt/11521691.html',\n",
       "  'tienda': 'Soriana',\n",
       "  'fecha': '2023-05-31'}]"
      ]
     },
     "execution_count": 14,
     "metadata": {},
     "output_type": "execute_result"
    }
   ],
   "source": [
    "#importar la funcion exploracion del archivo chedrauiFabuloso.py para poder usarla\n",
    "from exploraciones.chedrauiFabuloso import exploracion\n",
    "exploracion()"
   ]
  },
  {
   "cell_type": "code",
   "execution_count": null,
   "metadata": {},
   "outputs": [],
   "source": [
    "# guardar los datos de los productos en un archivo json\n",
    "import json\n",
    "with open('productosSoriana.json', 'w') as outfile:\n",
    "    json.dump(pSoriana, outfile)\n"
   ]
  },
  {
   "attachments": {},
   "cell_type": "markdown",
   "metadata": {},
   "source": [
    "----------------------\n"
   ]
  },
  {
   "attachments": {},
   "cell_type": "markdown",
   "metadata": {},
   "source": [
    "Terminamos de realizar el Scraping de Datos -> Ahora realizaremos una limpieza de cada uno de los productos con el fin de normalizar nuestra base de datos "
   ]
  },
  {
   "cell_type": "code",
   "execution_count": null,
   "metadata": {},
   "outputs": [],
   "source": [
    "#eliminar los duplicados de los productos de chedraui \n",
    "import pandas as pd\n",
    "df = pd.read_json('productosChedraui.json')\n",
    "df.drop_duplicates(subset =\"nombre\", keep = 'first', inplace = True)\n",
    "df.to_json('productosChedraui.json', orient='records')\n"
   ]
  },
  {
   "cell_type": "code",
   "execution_count": null,
   "metadata": {},
   "outputs": [],
   "source": [
    "#eliminar los duplicados de los productos de soriana\n",
    "import pandas as pd\n",
    "df = pd.read_json('productosSoriana.json')\n",
    "df.drop_duplicates(subset =\"nombre\", keep = 'first', inplace = True)\n",
    "df.to_json('productosSoriana.json', orient='records')\n"
   ]
  },
  {
   "cell_type": "code",
   "execution_count": null,
   "metadata": {},
   "outputs": [],
   "source": [
    "#reemplar en nombre de los productos de chedraui los caracteres especiales por letras normales para poder compararlos con los de soriana\n",
    "import json\n",
    "with open('productosChedraui.json') as json_file:\n",
    "    data = json.load(json_file)\n",
    "    for p in data:\n",
    "        p['nombre'] = p['nombre'].replace('\\u00f1', 'ñ')\n",
    "        p['nombre'] = p['nombre'].replace('\\u00fa', 'ú')\n",
    "        p['nombre'] = p['nombre'].replace('\\u00f3', 'ó')\n",
    "        p['nombre'] = p['nombre'].replace('\\u00ed', 'í')\n",
    "\n",
    "with open('productosChedraui.json', 'w', encoding='utf-8') as outfile:\n",
    "    json.dump(data, outfile, ensure_ascii=False)    \n"
   ]
  },
  {
   "cell_type": "code",
   "execution_count": null,
   "metadata": {},
   "outputs": [],
   "source": [
    "with open('productosSoriana.json') as json_file:\n",
    "    data = json.load(json_file)\n",
    "    for p in data:\n",
    "        p['nombre'] = p['nombre'].replace('\\u00f1', 'ñ')\n",
    "        p['nombre'] = p['nombre'].replace('\\u00fa', 'ú')\n",
    "        p['nombre'] = p['nombre'].replace('\\u00f3', 'ó')\n",
    "        p['nombre'] = p['nombre'].replace('\\u00ed', 'í')\n",
    "\n",
    "with open('productosSoriana.json', 'w', encoding='utf-8') as outfile:\n",
    "    json.dump(data, outfile, ensure_ascii=False)  "
   ]
  },
  {
   "cell_type": "code",
   "execution_count": null,
   "metadata": {},
   "outputs": [],
   "source": [
    "#cambiar el formato de precio de los productos de chedraui de $100.00 a 100 \n",
    "import json\n",
    "with open('productosChedraui.json') as json_file:\n",
    "    data = json.load(json_file) \n",
    "    for p in data:\n",
    "        precio = p['precio']\n",
    "        precio = precio.replace(\"$\", \"\")\n",
    "        precio = precio.replace(\",\", \"\")      \n",
    "        p['precio'] = precio\n",
    "with open('productosChedraui.json', 'w') as outfile:\n",
    "    json.dump(data, outfile)"
   ]
  },
  {
   "attachments": {},
   "cell_type": "markdown",
   "metadata": {},
   "source": [
    "Ahora podemos ya almacenar en una base de datos las entradas --->"
   ]
  },
  {
   "cell_type": "code",
   "execution_count": null,
   "metadata": {},
   "outputs": [],
   "source": [
    "# almacenar el json en una base de datos\n",
    "import pymongo\n",
    "from pymongo import MongoClient\n",
    "import datetime\n",
    "import json\n",
    "\n",
    "# conectar a la base de datos\n",
    "client = MongoClient('localhost', 27017)\n",
    "db = client['productos']\n",
    "collection = db['productos']\n",
    "\n",
    "\n",
    "# insertar el json productosChedraui.json en la base de datos\n",
    "with open('productosChedraui.json') as f:\n",
    "    file_data = json.load(f)\n",
    "\n",
    "# insertar el json productosSoriana.json en la base de datos\n",
    "with open('productosSoriana.json') as f:\n",
    "    file_data = json.load(f)\n",
    "\n",
    "#Comentamos esta seccion ya que despues usaremos el mismo archivo json para trabajar los productos de chedraui y soriana en el siguiente Notebook\n",
    "\n",
    "#collection.insert_many(file_data)\n",
    "#collection.insert_many(file_data)\n",
    "#collection.insert_many(pChedraui)\n",
    "#collection.insert_many(pSoriana)\n"
   ]
  }
 ],
 "metadata": {
  "kernelspec": {
   "display_name": "Python 3",
   "language": "python",
   "name": "python3"
  },
  "language_info": {
   "codemirror_mode": {
    "name": "ipython",
    "version": 3
   },
   "file_extension": ".py",
   "mimetype": "text/x-python",
   "name": "python",
   "nbconvert_exporter": "python",
   "pygments_lexer": "ipython3",
   "version": "3.10.11"
  },
  "orig_nbformat": 4,
  "vscode": {
   "interpreter": {
    "hash": "86c699cad3914dfebf4bf61cba86388c5c1c205df66400b7db584896587d1515"
   }
  }
 },
 "nbformat": 4,
 "nbformat_minor": 2
}
