{
 "cells": [
  {
   "cell_type": "code",
   "execution_count": 20,
   "metadata": {},
   "outputs": [],
   "source": [
    "#Webscrapping a Aurrera website\n",
    "link = \"https://www.bodegaaurrera.com.mx/productos?Ntt=comida%20gato\""
   ]
  },
  {
   "cell_type": "code",
   "execution_count": 21,
   "metadata": {},
   "outputs": [],
   "source": [
    "#obtener el html de la pagina web link\n",
    "import requests\n",
    "from bs4 import BeautifulSoup\n",
    "\n",
    "page = requests.get(link)\n",
    "soup = BeautifulSoup(page.content, 'html.parser')\n",
    "\n",
    "#obtener los por medio de xpath el siguiente elemento //*[@id=\"scrollContainer\"]/section/div[1]/div[3]/div[2]/div[1]/div/div[2] \n",
    "\n"
   ]
  },
  {
   "attachments": {},
   "cell_type": "markdown",
   "metadata": {},
   "source": [
    "Pero como es una página con un css y un id dinamicos tenemos que usar otros selcetores -> en este caso podemos usar XPATH con alguna otra libreria."
   ]
  },
  {
   "cell_type": "code",
   "execution_count": 22,
   "metadata": {},
   "outputs": [],
   "source": [
    "#pip install lxml"
   ]
  },
  {
   "cell_type": "code",
   "execution_count": 23,
   "metadata": {},
   "outputs": [],
   "source": [
    "import lxml.etree\n",
    "import lxml.html\n",
    "import requests\n"
   ]
  },
  {
   "cell_type": "code",
   "execution_count": 24,
   "metadata": {},
   "outputs": [],
   "source": [
    "def main():\n",
    "    print(\"Demonstrating xpath on HTML\")\n",
    "    print(\"===========================\")\n",
    "\n",
    "    r = requests.get(link)\n",
    "    root = lxml.html.fromstring(r.content)\n",
    "    title = root.xpath('//*[@id=\"scrollContainer\"]/section/div[1]/div[3]/div[2]/div[1]/div/div[2]') \n",
    "    print(title)"
   ]
  },
  {
   "cell_type": "code",
   "execution_count": 25,
   "metadata": {},
   "outputs": [
    {
     "name": "stdout",
     "output_type": "stream",
     "text": [
      "Demonstrating xpath on HTML\n",
      "===========================\n",
      "[]\n"
     ]
    }
   ],
   "source": [
    "if __name__ == \"__main__\":\n",
    "    main()"
   ]
  }
 ],
 "metadata": {
  "kernelspec": {
   "display_name": "Python 3",
   "language": "python",
   "name": "python3"
  },
  "language_info": {
   "codemirror_mode": {
    "name": "ipython",
    "version": 3
   },
   "file_extension": ".py",
   "mimetype": "text/x-python",
   "name": "python",
   "nbconvert_exporter": "python",
   "pygments_lexer": "ipython3",
   "version": "3.11.1"
  },
  "orig_nbformat": 4
 },
 "nbformat": 4,
 "nbformat_minor": 2
}
